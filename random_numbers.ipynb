{
 "cells": [
  {
   "cell_type": "code",
   "execution_count": 23,
   "id": "b580e45e",
   "metadata": {},
   "outputs": [],
   "source": [
    "# Import the random module.\n",
    "import random # redundant as we are importing numpy which has random func in it\n",
    "import numpy as np"
   ]
  },
  {
   "cell_type": "code",
   "execution_count": 35,
   "id": "905c4ccf",
   "metadata": {},
   "outputs": [
    {
     "name": "stdout",
     "output_type": "stream",
     "text": [
      "0.14069029771156927\n",
      "-6\n",
      "-6.385562447359639\n",
      "16\n"
     ]
    }
   ],
   "source": [
    "print(random.random())\n",
    "print(random.randint(-10,10))\n",
    "print(random.uniform(-15,15))\n",
    "print(random.randrange(-20,20,step=2))"
   ]
  },
  {
   "cell_type": "code",
   "execution_count": 50,
   "id": "684ee3c4",
   "metadata": {
    "scrolled": true
   },
   "outputs": [
    {
     "name": "stdout",
     "output_type": "stream",
     "text": [
      "[33.64812030075382, -84.60752283100629, 33.99724205562755, 0.1259606372605817, -66.67114490960373, -46.252461051932556, 27.43870751692003, -75.19813585024241, -31.82783157357038, 67.70261882050036]\n"
     ]
    }
   ],
   "source": [
    "x = 1\n",
    "latitudes = []\n",
    "while x < 11:\n",
    "    random_lat = random.randint(-90, 89) + random.random()\n",
    "    latitudes.append(random_lat)\n",
    "    x += 1\n",
    "print(latitudes)"
   ]
  },
  {
   "cell_type": "code",
   "execution_count": 37,
   "id": "83e7ab58",
   "metadata": {},
   "outputs": [
    {
     "data": {
      "text/plain": [
       "-58.74763509963865"
      ]
     },
     "execution_count": 37,
     "metadata": {},
     "output_type": "execute_result"
    }
   ],
   "source": [
    "np.random.uniform(-90.000, 90.000) #alternate way: np.random.uniform(low=-90, high=90)"
   ]
  },
  {
   "cell_type": "code",
   "execution_count": 38,
   "id": "45f349f2",
   "metadata": {},
   "outputs": [
    {
     "data": {
      "text/plain": [
       "array([-77.78880926,  31.555959  ,  67.80141484, -67.97412693,\n",
       "        81.75627213, -80.19660298, -51.53347752,  53.43497283,\n",
       "        -3.73045739,  -8.19243099,  -5.74143058,  15.89646678,\n",
       "       -25.60197512,  45.05954566,  41.68440664,  14.98303247,\n",
       "        27.07149609,  -8.65708563,  67.6872148 ,  18.44526474,\n",
       "       -10.66364526,  62.0854592 ,  32.06158296, -27.06750033,\n",
       "        52.96381243,  34.23782564,   6.32315917,  45.99244927,\n",
       "       -72.11979861, -28.09994944,  11.73058782,  52.96793801,\n",
       "       -87.1933151 , -61.62718431,  15.74474215, -36.57023935,\n",
       "       -36.30346679,  26.8726814 , -24.32919648,  -0.25723151,\n",
       "        44.27026522,  36.0681173 , -37.97027672,  -3.73633694,\n",
       "        50.76957208,  -8.56094849,  43.52116325,  79.96306431,\n",
       "       -10.02601745,  56.7987325 ])"
      ]
     },
     "execution_count": 38,
     "metadata": {},
     "output_type": "execute_result"
    }
   ],
   "source": [
    "np.random.uniform(-90.000, 90.000, size=50)"
   ]
  },
  {
   "cell_type": "code",
   "execution_count": 39,
   "id": "c398e458",
   "metadata": {},
   "outputs": [],
   "source": [
    "# Import timeit.\n",
    "import timeit"
   ]
  },
  {
   "cell_type": "code",
   "execution_count": 40,
   "id": "980c8d8b",
   "metadata": {},
   "outputs": [
    {
     "name": "stdout",
     "output_type": "stream",
     "text": [
      "11.2 µs ± 34.9 ns per loop (mean ± std. dev. of 7 runs, 100000 loops each)\n"
     ]
    }
   ],
   "source": [
    "%timeit np.random.uniform(-90.000, 90.000, size=1500)"
   ]
  },
  {
   "cell_type": "code",
   "execution_count": 41,
   "id": "01bfe62c",
   "metadata": {},
   "outputs": [
    {
     "name": "stdout",
     "output_type": "stream",
     "text": [
      "1.14 ms ± 7.73 µs per loop (mean ± std. dev. of 7 runs, 1000 loops each)\n"
     ]
    }
   ],
   "source": [
    "def latitudes(size):\n",
    "    latitudes = []\n",
    "    x = 0\n",
    "    while x < (size):\n",
    "        random_lat = random.randint(-90, 90) + random.random()\n",
    "        latitudes.append(random_lat)\n",
    "        x += 1\n",
    "    return latitudes\n",
    "# Call the function with 1500.\n",
    "%timeit latitudes(1500)"
   ]
  },
  {
   "cell_type": "code",
   "execution_count": null,
   "id": "7611b343",
   "metadata": {},
   "outputs": [],
   "source": []
  }
 ],
 "metadata": {
  "kernelspec": {
   "display_name": "Python 3 (ipykernel)",
   "language": "python",
   "name": "python3"
  },
  "language_info": {
   "codemirror_mode": {
    "name": "ipython",
    "version": 3
   },
   "file_extension": ".py",
   "mimetype": "text/x-python",
   "name": "python",
   "nbconvert_exporter": "python",
   "pygments_lexer": "ipython3",
   "version": "3.9.7"
  }
 },
 "nbformat": 4,
 "nbformat_minor": 5
}
